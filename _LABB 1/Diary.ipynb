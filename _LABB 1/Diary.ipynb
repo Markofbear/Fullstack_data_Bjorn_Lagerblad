{
 "cells": [
  {
   "cell_type": "markdown",
   "metadata": {},
   "source": [
    "c) Det finns ett Pythonskript som läser in alla mapparna i raw_data och ändra namnen på dessa genom att\n",
    "endast behålla första delen. Exempelvis Enhetstyp 2024-08-13_2024-09-10 AIgineer blir\n",
    "Enhetstyp. Försök att förstå vad skriptet gör och kör det.\n",
    "  d) Förstå och kör skriptet som laddar in data från CSV-filerna in till databasen"
   ]
  }
 ],
 "metadata": {
  "language_info": {
   "name": "python"
  }
 },
 "nbformat": 4,
 "nbformat_minor": 2
}
