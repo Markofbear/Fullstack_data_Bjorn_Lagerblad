{
 "cells": [
  {
   "cell_type": "code",
   "execution_count": 1,
   "metadata": {},
   "outputs": [
    {
     "data": {
      "text/html": [
       "<div>\n",
       "<style scoped>\n",
       "    .dataframe tbody tr th:only-of-type {\n",
       "        vertical-align: middle;\n",
       "    }\n",
       "\n",
       "    .dataframe tbody tr th {\n",
       "        vertical-align: top;\n",
       "    }\n",
       "\n",
       "    .dataframe thead th {\n",
       "        text-align: right;\n",
       "    }\n",
       "</style>\n",
       "<table border=\"1\" class=\"dataframe\">\n",
       "  <thead>\n",
       "    <tr style=\"text-align: right;\">\n",
       "      <th></th>\n",
       "      <th>Förvaltning</th>\n",
       "      <th>Leverantör</th>\n",
       "      <th>Organisationsnummer</th>\n",
       "      <th>Verifikationsnummer</th>\n",
       "      <th>Konto</th>\n",
       "      <th>Kontotext</th>\n",
       "      <th>Belopp exkl moms</th>\n",
       "    </tr>\n",
       "  </thead>\n",
       "  <tbody>\n",
       "    <tr>\n",
       "      <th>0</th>\n",
       "      <td>163 - Socialnämnden Nordost</td>\n",
       "      <td>NICOLE AJAKAYE</td>\n",
       "      <td>None</td>\n",
       "      <td>1631114400</td>\n",
       "      <td>7499</td>\n",
       "      <td>Övriga främmande tjänster</td>\n",
       "      <td>35 000,00</td>\n",
       "    </tr>\n",
       "    <tr>\n",
       "      <th>1</th>\n",
       "      <td>163 - Socialnämnden Nordost</td>\n",
       "      <td>POLISMYNDIGHETEN I VÄSTRA GÖTALAND</td>\n",
       "      <td>2021000076</td>\n",
       "      <td>1631112249</td>\n",
       "      <td>7499</td>\n",
       "      <td>Övriga främmande tjänster</td>\n",
       "      <td>1 740,00</td>\n",
       "    </tr>\n",
       "    <tr>\n",
       "      <th>2</th>\n",
       "      <td>300 - Stadsbyggnadsnämnden</td>\n",
       "      <td>POLISMYNDIGHETEN I VÄSTRA GÖTALAND</td>\n",
       "      <td>2021000076</td>\n",
       "      <td>3001072870</td>\n",
       "      <td>7499</td>\n",
       "      <td>Övriga främmande tjänster</td>\n",
       "      <td>1 000,00</td>\n",
       "    </tr>\n",
       "    <tr>\n",
       "      <th>3</th>\n",
       "      <td>300 - Stadsbyggnadsnämnden</td>\n",
       "      <td>POLISMYNDIGHETEN I VÄSTRA GÖTALAND</td>\n",
       "      <td>2021000076</td>\n",
       "      <td>3001072852</td>\n",
       "      <td>7499</td>\n",
       "      <td>Övriga främmande tjänster</td>\n",
       "      <td>7 000,00</td>\n",
       "    </tr>\n",
       "    <tr>\n",
       "      <th>4</th>\n",
       "      <td>560 - Kretslopp och vattennämnden</td>\n",
       "      <td>POLISMYNDIGHETEN I VÄSTRA GÖTALAND</td>\n",
       "      <td>2021000076</td>\n",
       "      <td>5601374600</td>\n",
       "      <td>7231</td>\n",
       "      <td>Reklam och information</td>\n",
       "      <td>1 740,00</td>\n",
       "    </tr>\n",
       "  </tbody>\n",
       "</table>\n",
       "</div>"
      ],
      "text/plain": [
       "                         Förvaltning                          Leverantör  \\\n",
       "0        163 - Socialnämnden Nordost                      NICOLE AJAKAYE   \n",
       "1        163 - Socialnämnden Nordost  POLISMYNDIGHETEN I VÄSTRA GÖTALAND   \n",
       "2         300 - Stadsbyggnadsnämnden  POLISMYNDIGHETEN I VÄSTRA GÖTALAND   \n",
       "3         300 - Stadsbyggnadsnämnden  POLISMYNDIGHETEN I VÄSTRA GÖTALAND   \n",
       "4  560 - Kretslopp och vattennämnden  POLISMYNDIGHETEN I VÄSTRA GÖTALAND   \n",
       "\n",
       "  Organisationsnummer  Verifikationsnummer  Konto                  Kontotext  \\\n",
       "0                None           1631114400   7499  Övriga främmande tjänster   \n",
       "1          2021000076           1631112249   7499  Övriga främmande tjänster   \n",
       "2          2021000076           3001072870   7499  Övriga främmande tjänster   \n",
       "3          2021000076           3001072852   7499  Övriga främmande tjänster   \n",
       "4          2021000076           5601374600   7231     Reklam och information   \n",
       "\n",
       "  Belopp exkl moms  \n",
       "0        35 000,00  \n",
       "1         1 740,00  \n",
       "2         1 000,00  \n",
       "3         7 000,00  \n",
       "4         1 740,00  "
      ]
     },
     "execution_count": 1,
     "metadata": {},
     "output_type": "execute_result"
    }
   ],
   "source": [
    "from database import DatabaseDataFrame\n",
    "from constants import DATABASE_PATH\n",
    "\n",
    "with DatabaseDataFrame(DATABASE_PATH) as db:\n",
    "    df = db.query(\"SELECT * FROM supplier_invoice.invoice_202407\")\n",
    "\n",
    "df.head()\n"
   ]
  },
  {
   "cell_type": "code",
   "execution_count": 2,
   "metadata": {},
   "outputs": [
    {
     "data": {
      "text/plain": [
       "(114364, 7)"
      ]
     },
     "execution_count": 2,
     "metadata": {},
     "output_type": "execute_result"
    }
   ],
   "source": [
    "df.shape"
   ]
  }
 ],
 "metadata": {
  "kernelspec": {
   "display_name": ".venv",
   "language": "python",
   "name": "python3"
  },
  "language_info": {
   "codemirror_mode": {
    "name": "ipython",
    "version": 3
   },
   "file_extension": ".py",
   "mimetype": "text/x-python",
   "name": "python",
   "nbconvert_exporter": "python",
   "pygments_lexer": "ipython3",
   "version": "3.11.8"
  }
 },
 "nbformat": 4,
 "nbformat_minor": 2
}
