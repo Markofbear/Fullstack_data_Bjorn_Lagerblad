{
 "cells": [
  {
   "cell_type": "markdown",
   "metadata": {},
   "source": [
    "0. Hire IT employee data\n",
    "In a company Hire IT, there are these employees.\n",
    "\n",
    "  a) Create a list of dictionaries to represent this data, where each dictionary represents each row.\n",
    "\n",
    "  b) Extract the second record in this dataset.\n",
    "\n",
    "  c) Extract all rows from this dataset and print it in this format"
   ]
  },
  {
   "cell_type": "code",
   "execution_count": 10,
   "metadata": {},
   "outputs": [
    {
     "name": "stdout",
     "output_type": "stream",
     "text": [
      "[{'employeeID': 0, 'name': 'Alice', 'department': 'HR', 'salary': 31000}, {'employeeID': 1, 'name': 'Bob', 'department': 'IT', 'salary': 41000}, {'employeeID': 2, 'name': 'Charlie', 'department': 'HR', 'salary': 28000}]\n"
     ]
    }
   ],
   "source": [
    "employees = [\n",
    "\n",
    "{\"employeeID\": 0, \"name\": \"Alice\", \"department\": \"HR\", \"salary\": 31000},\n",
    "{\"employeeID\": 1, \"name\": \"Bob\", \"department\": \"IT\", \"salary\": 41000},\n",
    "{\"employeeID\": 2, \"name\": \"Charlie\", \"department\": \"HR\", \"salary\": 28000},\n",
    "]\n",
    "\n",
    "print (employees)"
   ]
  },
  {
   "cell_type": "code",
   "execution_count": 11,
   "metadata": {},
   "outputs": [
    {
     "name": "stdout",
     "output_type": "stream",
     "text": [
      "{'employeeID': 1, 'name': 'Bob', 'department': 'IT', 'salary': 41000}\n"
     ]
    }
   ],
   "source": [
    "print(employees[1])"
   ]
  },
  {
   "cell_type": "code",
   "execution_count": 12,
   "metadata": {},
   "outputs": [
    {
     "name": "stdout",
     "output_type": "stream",
     "text": [
      "Alice works in department HR and earns 31000.\n",
      "Bob works in department IT and earns 41000.\n",
      "Charlie works in department HR and earns 28000.\n"
     ]
    }
   ],
   "source": [
    "for employee in employees:\n",
    "    name = employee[\"name\"]\n",
    "    department = employee[\"department\"]\n",
    "    salary = employee[\"salary\"]\n",
    "    print(f\"{name} works in department {department} and earns {salary}.\")\n"
   ]
  },
  {
   "cell_type": "code",
   "execution_count": 13,
   "metadata": {},
   "outputs": [
    {
     "name": "stdout",
     "output_type": "stream",
     "text": [
      "33333.333333333336\n"
     ]
    }
   ],
   "source": [
    "total_salary = 0\n",
    "nremployees = 0\n",
    "\n",
    "for employee in employees:\n",
    "        total_salary += employee[\"salary\"]\n",
    "        nremployees += 1\n",
    "\n",
    "average_salary = total_salary / nremployees\n",
    "\n",
    "print(average_salary)\n"
   ]
  },
  {
   "cell_type": "code",
   "execution_count": 14,
   "metadata": {},
   "outputs": [
    {
     "name": "stdout",
     "output_type": "stream",
     "text": [
      "29500.0\n"
     ]
    }
   ],
   "source": [
    "total_salary = 0\n",
    "nremployees = 0\n",
    "\n",
    "for employee in employees:\n",
    "    if employee[\"department\"] == \"HR\":\n",
    "        total_salary += employee[\"salary\"]\n",
    "        nremployees += 1\n",
    "\n",
    "average_salary = total_salary / nremployees\n",
    "\n",
    "print(average_salary)\n"
   ]
  },
  {
   "cell_type": "code",
   "execution_count": 15,
   "metadata": {},
   "outputs": [
    {
     "name": "stdout",
     "output_type": "stream",
     "text": [
      "[{'employeeID': 0, 'name': 'Alice', 'department': 'HR', 'salary': 31000}, {'employeeID': 2, 'name': 'Charlie', 'department': 'HR', 'salary': 28000}]\n"
     ]
    }
   ],
   "source": [
    "hr = [e for e in employees if e[\"department\"] == \"HR\"]\n",
    "\n",
    "print (hr)"
   ]
  },
  {
   "cell_type": "code",
   "execution_count": 16,
   "metadata": {},
   "outputs": [
    {
     "name": "stdout",
     "output_type": "stream",
     "text": [
      "{'HR', 'IT'}\n"
     ]
    }
   ],
   "source": [
    "unique_dep = set(employee[\"department\"] for employee in employees)\n",
    "\n",
    "print(unique_dep)"
   ]
  },
  {
   "cell_type": "code",
   "execution_count": 17,
   "metadata": {},
   "outputs": [
    {
     "name": "stdout",
     "output_type": "stream",
     "text": [
      "[{'employeeID': 0, 'name': 'Alice', 'department': 'HR', 'salary': 31000, 'age': 26}, {'employeeID': 1, 'name': 'Bob', 'department': 'IT', 'salary': 41000, 'age': 37}, {'employeeID': 2, 'name': 'Charlie', 'department': 'HR', 'salary': 28000, 'age': None}]\n"
     ]
    }
   ],
   "source": [
    "employees = [\n",
    "\n",
    "{\"employeeID\": 0, \"name\": \"Alice\", \"department\": \"HR\", \"salary\": 31000, \"age\": 26},\n",
    "{\"employeeID\": 1, \"name\": \"Bob\", \"department\": \"IT\", \"salary\": 41000, \"age\":37},\n",
    "{\"employeeID\": 2, \"name\": \"Charlie\", \"department\": \"HR\", \"salary\": 28000, \"age\":None},\n",
    "]\n",
    "\n",
    "print (employees)"
   ]
  },
  {
   "cell_type": "code",
   "execution_count": 18,
   "metadata": {},
   "outputs": [
    {
     "name": "stdout",
     "output_type": "stream",
     "text": [
      "[{'employeeID': 0, 'name': 'Alice', 'department': 'HR', 'salary': 31000, 'age': 26}, {'employeeID': 1, 'name': 'Bob', 'department': 'IT', 'salary': 41000, 'age': 37}, {'employeeID': 2, 'name': 'Charlie', 'department': 'HR', 'salary': 28000, 'age': None}, {'employeeID': 3, 'name': 'David', 'department': None, 'salary': 35000, 'age': 30}]\n"
     ]
    }
   ],
   "source": [
    "employees = [\n",
    "\n",
    "{\"employeeID\": 0, \"name\": \"Alice\", \"department\": \"HR\", \"salary\": 31000, \"age\": 26},\n",
    "{\"employeeID\": 1, \"name\": \"Bob\", \"department\": \"IT\", \"salary\": 41000, \"age\":37},\n",
    "{\"employeeID\": 2, \"name\": \"Charlie\", \"department\": \"HR\", \"salary\": 28000, \"age\":None},\n",
    "{\"employeeID\": 3, \"name\": \"David\", \"department\": None, \"salary\": 35000, \"age\":30},\n",
    "]\n",
    "\n",
    "print (employees)"
   ]
  },
  {
   "cell_type": "markdown",
   "metadata": {},
   "source": [
    "-----\n",
    "\n",
    "## POKEMON"
   ]
  },
  {
   "cell_type": "code",
   "execution_count": 19,
   "metadata": {},
   "outputs": [
    {
     "name": "stdout",
     "output_type": "stream",
     "text": [
      "Pikachu Electric 10\n"
     ]
    }
   ],
   "source": [
    "class Pokemon:\n",
    "    def __init__(self, name, type, level):\n",
    "        self.name = name\n",
    "        self.type = type\n",
    "        self.level = level\n",
    "\n",
    "pikachu = Pokemon(name=\"Pikachu\", type = \"Electric\", level = 10)\n",
    "\n",
    "print(pikachu.name, pikachu.type, pikachu.level)\n"
   ]
  },
  {
   "cell_type": "code",
   "execution_count": 24,
   "metadata": {},
   "outputs": [
    {
     "name": "stdout",
     "output_type": "stream",
     "text": [
      "__str__:\n",
      "Pokemon: Pikachu, Type: Electric, Level: 10\n",
      "\n",
      "__repr__\n",
      "Pokemon(name='Pikachu', type='Electric', level=10)\n"
     ]
    }
   ],
   "source": [
    "class Pokemon: \n",
    "    def __init__(self, name, type, level):\n",
    "        self.name = name\n",
    "        self.type = type\n",
    "        self.level = level\n",
    "\n",
    "\n",
    "    def __str__(self):\n",
    "        return f\"Pokemon: {self.name}, Type: {self.type}, Level: {self.level}\"\n",
    "\n",
    "\n",
    "    def __repr__(self):\n",
    "        return f\"Pokemon(name='{self.name}', type='{self.type}', level={self.level})\"\n",
    "    \n",
    "pikachu = Pokemon(name=\"Pikachu\", type = \"Electric\", level = 10)\n",
    "\n",
    "print(\"__str__:\")\n",
    "print(pikachu)  \n",
    "\n",
    "print(\"\\n__repr__\")\n",
    "print(repr(pikachu))\n"
   ]
  }
 ],
 "metadata": {
  "kernelspec": {
   "display_name": ".venv",
   "language": "python",
   "name": "python3"
  },
  "language_info": {
   "codemirror_mode": {
    "name": "ipython",
    "version": 3
   },
   "file_extension": ".py",
   "mimetype": "text/x-python",
   "name": "python",
   "nbconvert_exporter": "python",
   "pygments_lexer": "ipython3",
   "version": "3.9.9"
  }
 },
 "nbformat": 4,
 "nbformat_minor": 2
}
